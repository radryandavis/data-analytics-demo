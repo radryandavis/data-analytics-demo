{
 "cells": [
  {
   "cell_type": "markdown",
   "metadata": {},
   "source": [
    "# Professionals Dataset\n",
    "On the US map, clicking on Virginia brings up a view of the professionals dataset filtered on Virginia.\n",
    "\n",
    "There are 10 professionals per page, and navigation buttons allow 100 pages to be viewed. The professionals are sorted by total spend from highest to lowest. Total spend ranges from \\$1.3B to \\$590K at the bottom of the 100th page.\n",
    "\n",
    "The page offers additional filters on the left. The professionals dataset can be further filtered by state, city, tags, total payments, worked in, and badges. The state filter includes each state and the number of professionals whose location is in the state. Adding it all up, there are roughly 100K entries (in the view of the professionals dataset filtered on Virginia).\n",
    "\n",
    "The table below is a rough summary of the total spend data.\n",
    "\n",
    "| Total Spend             | Number of Professionals |\n",
    "|-------------------------|-------------------------|\n",
    "|  $\\geq \\$1\\mathrm{B}$   |            1            |\n",
    "|  $\\geq \\$100\\mathrm{M}$ |           12            |\n",
    "|  $\\geq \\$10\\mathrm{M}$  |          132            |\n",
    "|  $\\geq \\$1\\mathrm{M}$   |          577            |\n",
    "|  $< \\$1\\mathrm{M}$      |         ~99K            |"
   ]
  },
  {
   "cell_type": "markdown",
   "metadata": {},
   "source": [
    "# Example Dataset\n",
    "The example dataset is based on the professionals dataset.\n",
    "\n",
    "The example dataset includes 100K professionals. The table below shows the approach for defining the number of professionals at each level of total spend.\n",
    "\n",
    "| Total Spend             | Number of Professionals  |\n",
    "|-------------------------|--------------------------|\n",
    "|  $\\geq \\$1\\mathrm{B}$   |     random 3-9           |\n",
    "|  $\\geq \\$100\\mathrm{M}$ |     random 10-20         |\n",
    "|  $\\geq \\$10\\mathrm{M}$  |     random 100-300       |\n",
    "|  $\\geq \\$1\\mathrm{M}$   |     random 500-1K        |\n",
    "|  $\\geq \\$100\\mathrm{K}$ |     random 5K-10K        |\n",
    "|  $\\geq \\$10\\mathrm{K}$  |     random 20K-40K       |\n",
    "|  $\\geq \\$1\\mathrm{K}$   | # required to reach 100K |"
   ]
  },
  {
   "cell_type": "markdown",
   "metadata": {},
   "source": [
    "# Code"
   ]
  },
  {
   "cell_type": "code",
   "execution_count": 1,
   "metadata": {
    "collapsed": true
   },
   "outputs": [],
   "source": [
    "import numpy\n",
    "import pandas"
   ]
  },
  {
   "cell_type": "markdown",
   "metadata": {},
   "source": [
    "Set the random number seed for repeatability."
   ]
  },
  {
   "cell_type": "code",
   "execution_count": 2,
   "metadata": {
    "collapsed": true
   },
   "outputs": [],
   "source": [
    "numpy.random.seed(1234)"
   ]
  },
  {
   "cell_type": "markdown",
   "metadata": {},
   "source": [
    "The example dataset includes 100K professionals."
   ]
  },
  {
   "cell_type": "code",
   "execution_count": 3,
   "metadata": {},
   "outputs": [
    {
     "name": "stdout",
     "output_type": "stream",
     "text": [
      "100000.0\n"
     ]
    }
   ],
   "source": [
    "total_number_of_professionals = 1e5\n",
    "print(total_number_of_professionals)"
   ]
  },
  {
   "cell_type": "markdown",
   "metadata": {},
   "source": [
    "Level of total spend ranges from \\$1B to \\$1K. This can be written as $\\$1 * 10^9$ to $\\$1 * 10^3$. The order of magnitude ranges from 9 to 3."
   ]
  },
  {
   "cell_type": "code",
   "execution_count": 4,
   "metadata": {},
   "outputs": [
    {
     "name": "stdout",
     "output_type": "stream",
     "text": [
      "[9 8 7 6 5 4 3]\n"
     ]
    }
   ],
   "source": [
    "orders_of_magnitude = numpy.arange(9,2,-1)\n",
    "print(orders_of_magnitude)"
   ]
  },
  {
   "cell_type": "markdown",
   "metadata": {},
   "source": [
    "Total Spend"
   ]
  },
  {
   "cell_type": "code",
   "execution_count": 5,
   "metadata": {},
   "outputs": [
    {
     "name": "stdout",
     "output_type": "stream",
     "text": [
      "[1000000000  100000000   10000000    1000000     100000      10000\n",
      "       1000]\n"
     ]
    }
   ],
   "source": [
    "total_spend = numpy.power(10, orders_of_magnitude)\n",
    "print(total_spend)"
   ]
  },
  {
   "cell_type": "markdown",
   "metadata": {},
   "source": [
    "Number of Professionals"
   ]
  },
  {
   "cell_type": "code",
   "execution_count": 6,
   "metadata": {},
   "outputs": [
    {
     "name": "stdout",
     "output_type": "stream",
     "text": [
      "[    6    16   153   704  5664 28471 64986]\n"
     ]
    }
   ],
   "source": [
    "number_of_professionals = numpy.array([ numpy.random.randint(3, 10),\n",
    "                                        numpy.random.randint(10, 21),\n",
    "                                        numpy.random.randint(100, 300),\n",
    "                                        numpy.random.randint(500, 1e3),\n",
    "                                        numpy.random.randint(5e3, 10e3),\n",
    "                                        numpy.random.randint(20e3, 40e3),\n",
    "                                        0 ])\n",
    "number_of_professionals[-1] = total_number_of_professionals - number_of_professionals.sum()\n",
    "print(number_of_professionals)"
   ]
  },
  {
   "cell_type": "markdown",
   "metadata": {},
   "source": [
    "Put the data into a pandas DataFrame."
   ]
  },
  {
   "cell_type": "code",
   "execution_count": 7,
   "metadata": {},
   "outputs": [
    {
     "name": "stdout",
     "output_type": "stream",
     "text": [
      "   Total Spend  Number of Professionals\n",
      "0   1000000000                        6\n",
      "1    100000000                       16\n",
      "2     10000000                      153\n",
      "3      1000000                      704\n",
      "4       100000                     5664\n",
      "5        10000                    28471\n",
      "6         1000                    64986\n"
     ]
    }
   ],
   "source": [
    "number_of_professionals_table = pandas.DataFrame()\n",
    "number_of_professionals_table['Total Spend'] = total_spend\n",
    "number_of_professionals_table['Number of Professionals'] = number_of_professionals\n",
    "print(number_of_professionals_table)"
   ]
  },
  {
   "cell_type": "markdown",
   "metadata": {},
   "source": [
    "| Total Spend             | Number of Professionals  |\n",
    "|-------------------------|--------------------------|\n",
    "|  $\\geq \\$1\\mathrm{B}$   |         6                |\n",
    "|  $\\geq \\$100\\mathrm{M}$ |        16                |\n",
    "|  $\\geq \\$10\\mathrm{M}$  |       153                |\n",
    "|  $\\geq \\$1\\mathrm{M}$   |       704                |\n",
    "|  $\\geq \\$100\\mathrm{K}$ |      5664                |\n",
    "|  $\\geq \\$10\\mathrm{K}$  |     28471                |\n",
    "|  $\\geq \\$1\\mathrm{K}$   |     64986                |"
   ]
  },
  {
   "cell_type": "markdown",
   "metadata": {},
   "source": [
    "For all 100K professionals, generate a random value for total spend."
   ]
  },
  {
   "cell_type": "code",
   "execution_count": 8,
   "metadata": {},
   "outputs": [
    {
     "name": "stdout",
     "output_type": "stream",
     "text": [
      "       Total Spend\n",
      "0       8614232354\n",
      "1       6482372250\n",
      "2       4762102042\n",
      "3       4061031881\n",
      "4       3935450949\n",
      "5       3151757680\n",
      "6        970717899\n",
      "7        886580755\n",
      "8        750164161\n",
      "9        732230259\n",
      "10       717540492\n",
      "11       697971689\n",
      "12       669689594\n",
      "13       610345219\n",
      "14       604415490\n",
      "15       595622784\n",
      "16       593431527\n",
      "17       423759947\n",
      "18       274927782\n",
      "19       274470609\n",
      "20       266344698\n",
      "21       263843691\n",
      "22        99754705\n",
      "23        98542325\n",
      "24        97255251\n",
      "25        97237865\n",
      "26        95305780\n",
      "27        94924612\n",
      "28        94245020\n",
      "29        93896780\n",
      "...            ...\n",
      "99970         1003\n",
      "99971         1003\n",
      "99972         1003\n",
      "99973         1002\n",
      "99974         1002\n",
      "99975         1002\n",
      "99976         1002\n",
      "99977         1002\n",
      "99978         1002\n",
      "99979         1002\n",
      "99980         1002\n",
      "99981         1001\n",
      "99982         1001\n",
      "99983         1001\n",
      "99984         1001\n",
      "99985         1001\n",
      "99986         1001\n",
      "99987         1001\n",
      "99988         1001\n",
      "99989         1001\n",
      "99990         1001\n",
      "99991         1000\n",
      "99992         1000\n",
      "99993         1000\n",
      "99994         1000\n",
      "99995         1000\n",
      "99996         1000\n",
      "99997         1000\n",
      "99998         1000\n",
      "99999         1000\n",
      "\n",
      "[100000 rows x 1 columns]\n"
     ]
    }
   ],
   "source": [
    "example_datasets = []\n",
    "for i, order_of_magnitude in enumerate(orders_of_magnitude):\n",
    "    total_spend_min = numpy.power(10, order_of_magnitude)\n",
    "    total_spend_max = numpy.power(10, order_of_magnitude+1)\n",
    "    number_of_professionals = number_of_professionals_table.iloc[i]['Number of Professionals']\n",
    "    example_dataset_i = pandas.DataFrame(numpy.random.randint(low=total_spend_min,\n",
    "                                                              high=total_spend_max,\n",
    "                                                              size=number_of_professionals),\n",
    "                                         columns=['Total Spend'])\n",
    "    example_dataset_i = example_dataset_i.sort_values(by='Total Spend', ascending=False)\n",
    "    example_datasets.append(example_dataset_i)\n",
    "example_dataset = pandas.concat(example_datasets, ignore_index=True)\n",
    "print(example_dataset)"
   ]
  },
  {
   "cell_type": "markdown",
   "metadata": {},
   "source": [
    "Save the example dataset to a file."
   ]
  },
  {
   "cell_type": "code",
   "execution_count": 9,
   "metadata": {
    "collapsed": true
   },
   "outputs": [],
   "source": [
    "example_dataset.to_csv('project-files/example_dataset.csv')"
   ]
  },
  {
   "cell_type": "code",
   "execution_count": null,
   "metadata": {
    "collapsed": true
   },
   "outputs": [],
   "source": []
  }
 ],
 "metadata": {
  "kernelspec": {
   "display_name": "Python 3",
   "language": "python",
   "name": "python3"
  },
  "language_info": {
   "codemirror_mode": {
    "name": "ipython",
    "version": 3
   },
   "file_extension": ".py",
   "mimetype": "text/x-python",
   "name": "python",
   "nbconvert_exporter": "python",
   "pygments_lexer": "ipython3",
   "version": "3.6.3"
  }
 },
 "nbformat": 4,
 "nbformat_minor": 2
}

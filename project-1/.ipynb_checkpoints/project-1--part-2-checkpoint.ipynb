{
 "cells": [
  {
   "cell_type": "code",
   "execution_count": 3,
   "metadata": {
    "collapsed": true
   },
   "outputs": [],
   "source": [
    "import math\n",
    "import numpy\n",
    "import pandas"
   ]
  },
  {
   "cell_type": "markdown",
   "metadata": {},
   "source": [
    "# Load Example Dataset"
   ]
  },
  {
   "cell_type": "code",
   "execution_count": 2,
   "metadata": {},
   "outputs": [
    {
     "name": "stdout",
     "output_type": "stream",
     "text": [
      "       Total Spend\n",
      "0       8614232354\n",
      "1       6482372250\n",
      "2       4762102042\n",
      "3       4061031881\n",
      "4       3935450949\n",
      "5       3151757680\n",
      "6        970717899\n",
      "7        886580755\n",
      "8        750164161\n",
      "9        732230259\n",
      "10       717540492\n",
      "11       697971689\n",
      "12       669689594\n",
      "13       610345219\n",
      "14       604415490\n",
      "15       595622784\n",
      "16       593431527\n",
      "17       423759947\n",
      "18       274927782\n",
      "19       274470609\n",
      "20       266344698\n",
      "21       263843691\n",
      "22        99754705\n",
      "23        98542325\n",
      "24        97255251\n",
      "25        97237865\n",
      "26        95305780\n",
      "27        94924612\n",
      "28        94245020\n",
      "29        93896780\n",
      "...            ...\n",
      "99970         1003\n",
      "99971         1003\n",
      "99972         1003\n",
      "99973         1002\n",
      "99974         1002\n",
      "99975         1002\n",
      "99976         1002\n",
      "99977         1002\n",
      "99978         1002\n",
      "99979         1002\n",
      "99980         1002\n",
      "99981         1001\n",
      "99982         1001\n",
      "99983         1001\n",
      "99984         1001\n",
      "99985         1001\n",
      "99986         1001\n",
      "99987         1001\n",
      "99988         1001\n",
      "99989         1001\n",
      "99990         1001\n",
      "99991         1000\n",
      "99992         1000\n",
      "99993         1000\n",
      "99994         1000\n",
      "99995         1000\n",
      "99996         1000\n",
      "99997         1000\n",
      "99998         1000\n",
      "99999         1000\n",
      "\n",
      "[100000 rows x 1 columns]\n"
     ]
    }
   ],
   "source": [
    "example_dataset = pandas.read_csv('project-files/example-dataset.csv')\n",
    "example_dataset.drop(example_dataset.columns[0], axis=1, inplace=True)\n",
    "print(example_dataset)"
   ]
  },
  {
   "cell_type": "markdown",
   "metadata": {},
   "source": [
    "# Visualization 1\n",
    "### Total Spend Summary Table"
   ]
  },
  {
   "cell_type": "code",
   "execution_count": 4,
   "metadata": {},
   "outputs": [
    {
     "name": "stdout",
     "output_type": "stream",
     "text": [
      "[9 8 7 6 5 4 3]\n"
     ]
    }
   ],
   "source": [
    "total_spend_max = example_dataset.iloc[0]['Total Spend']\n",
    "total_spend_min = example_dataset.iloc[-1]['Total Spend']\n",
    "order_of_magnitude_max = int(math.floor(math.log10(total_spend_max)))\n",
    "order_of_magnitude_min = int(math.floor(math.log10(total_spend_min)))\n",
    "orders_of_magnitude = numpy.arange(order_of_magnitude_max, order_of_magnitude_min-1, -1)\n",
    "print(orders_of_magnitude)"
   ]
  },
  {
   "cell_type": "code",
   "execution_count": 5,
   "metadata": {},
   "outputs": [
    {
     "name": "stdout",
     "output_type": "stream",
     "text": [
      "[1000000000  100000000   10000000    1000000     100000      10000\n",
      "       1000]\n"
     ]
    }
   ],
   "source": [
    "total_spend = numpy.power(10, orders_of_magnitude)\n",
    "print(total_spend)"
   ]
  },
  {
   "cell_type": "code",
   "execution_count": 6,
   "metadata": {},
   "outputs": [
    {
     "name": "stdout",
     "output_type": "stream",
     "text": [
      "[    6    16   153   704  5664 28471 64986]\n"
     ]
    }
   ],
   "source": [
    "number_of_professionals = numpy.zeros_like(orders_of_magnitude)\n",
    "for i, order_of_magnitude in enumerate(orders_of_magnitude):\n",
    "    total_spend_min = numpy.power(10, order_of_magnitude)\n",
    "    total_spend_max = numpy.power(10, order_of_magnitude+1)\n",
    "    number_of_professionals[i] = ((example_dataset['Total Spend'] >= total_spend_min) &\n",
    "                                  (example_dataset['Total Spend'] < total_spend_max)).sum()\n",
    "print(number_of_professionals)"
   ]
  },
  {
   "cell_type": "code",
   "execution_count": 7,
   "metadata": {},
   "outputs": [
    {
     "name": "stdout",
     "output_type": "stream",
     "text": [
      "   Total Spend  Number of Professionals\n",
      "0   1000000000                        6\n",
      "1    100000000                       16\n",
      "2     10000000                      153\n",
      "3      1000000                      704\n",
      "4       100000                     5664\n",
      "5        10000                    28471\n",
      "6         1000                    64986\n"
     ]
    }
   ],
   "source": [
    "number_of_professionals_table = pandas.DataFrame()\n",
    "number_of_professionals_table['Total Spend'] = total_spend\n",
    "number_of_professionals_table['Number of Professionals'] = number_of_professionals\n",
    "print(number_of_professionals_table)"
   ]
  },
  {
   "cell_type": "markdown",
   "metadata": {},
   "source": [
    "| Total Spend             | Number of Professionals  |\n",
    "|-------------------------|--------------------------|\n",
    "|  $\\geq \\$1\\mathrm{B}$   |         6                |\n",
    "|  $\\geq \\$100\\mathrm{M}$ |        16                |\n",
    "|  $\\geq \\$10\\mathrm{M}$  |       153                |\n",
    "|  $\\geq \\$1\\mathrm{M}$   |       704                |\n",
    "|  $\\geq \\$100\\mathrm{K}$ |      5664                |\n",
    "|  $\\geq \\$10\\mathrm{K}$  |     28471                |\n",
    "|  $\\geq \\$1\\mathrm{K}$   |     64986                |"
   ]
  },
  {
   "cell_type": "code",
   "execution_count": null,
   "metadata": {
    "collapsed": true
   },
   "outputs": [],
   "source": []
  }
 ],
 "metadata": {
  "kernelspec": {
   "display_name": "Python 3",
   "language": "python",
   "name": "python3"
  },
  "language_info": {
   "codemirror_mode": {
    "name": "ipython",
    "version": 3
   },
   "file_extension": ".py",
   "mimetype": "text/x-python",
   "name": "python",
   "nbconvert_exporter": "python",
   "pygments_lexer": "ipython3",
   "version": "3.6.3"
  }
 },
 "nbformat": 4,
 "nbformat_minor": 2
}
